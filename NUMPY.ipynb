{
  "nbformat": 4,
  "nbformat_minor": 0,
  "metadata": {
    "colab": {
      "provenance": [],
      "authorship_tag": "ABX9TyOqsGQ6c/Jmp4sGcGH9Zoc8",
      "include_colab_link": true
    },
    "kernelspec": {
      "name": "python3",
      "display_name": "Python 3"
    },
    "language_info": {
      "name": "python"
    }
  },
  "cells": [
    {
      "cell_type": "markdown",
      "metadata": {
        "id": "view-in-github",
        "colab_type": "text"
      },
      "source": [
        "<a href=\"https://colab.research.google.com/github/Mr-B-B/AI-ML/blob/main/NUMPY.ipynb\" target=\"_parent\"><img src=\"https://colab.research.google.com/assets/colab-badge.svg\" alt=\"Open In Colab\"/></a>"
      ]
    },
    {
      "cell_type": "markdown",
      "source": [
        "                                        AIM:-Creating a 5x5 Identity Matrix"
      ],
      "metadata": {
        "id": "2mJp1Iw4FHPp"
      }
    },
    {
      "cell_type": "markdown",
      "source": [
        "**Step 1: Import NumPy**"
      ],
      "metadata": {
        "id": "hrLQplXsFN33"
      }
    },
    {
      "cell_type": "code",
      "source": [
        "import numpy as np"
      ],
      "metadata": {
        "id": "CS8iAsZqFScZ"
      },
      "execution_count": null,
      "outputs": []
    },
    {
      "cell_type": "markdown",
      "source": [
        "**Step 2: Create the Identity Matrix**"
      ],
      "metadata": {
        "id": "UKoz7DeNFYDf"
      }
    },
    {
      "cell_type": "code",
      "source": [
        "identity_matrix = np.eye(5)"
      ],
      "metadata": {
        "id": "Ehn70M5vFbbT"
      },
      "execution_count": null,
      "outputs": []
    },
    {
      "cell_type": "markdown",
      "source": [
        "**Step 3: Print the Result**"
      ],
      "metadata": {
        "id": "Z3KJZ1CsFeg2"
      }
    },
    {
      "cell_type": "code",
      "source": [
        "print(\"5x5 Identity Matrix:\\n\", identity_matrix)"
      ],
      "metadata": {
        "id": "hBfFA-yfFicS",
        "outputId": "5138d9e2-139a-4132-ab26-d46cc7c326ae",
        "colab": {
          "base_uri": "https://localhost:8080/"
        }
      },
      "execution_count": null,
      "outputs": [
        {
          "output_type": "stream",
          "name": "stdout",
          "text": [
            "5x5 Identity Matrix:\n",
            " [[1. 0. 0. 0. 0.]\n",
            " [0. 1. 0. 0. 0.]\n",
            " [0. 0. 1. 0. 0.]\n",
            " [0. 0. 0. 1. 0.]\n",
            " [0. 0. 0. 0. 1.]]\n"
          ]
        }
      ]
    }
  ]
}